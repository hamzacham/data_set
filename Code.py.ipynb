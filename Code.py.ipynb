{
 "cells": [
  {
   "cell_type": "markdown",
   "metadata": {},
   "source": [
    "# IMDb Partie 1 - Solutionnaire"
   ]
  },
  {
   "cell_type": "markdown",
   "metadata": {},
   "source": [
    "#Fichier des donnée est placer sur zip veuillez telecharger pour faire vos esseais et me faire suite \n",
    "j'ai hate de vous lire, laissez vous commentaires "
   ]
  },
  {
   "cell_type": "markdown",
   "metadata": {},
   "source": [
    "## Importation\n",
    "Utilisez cette section pour importer la ou les librairies pertinentes et lire le fichier."
   ]
  },
  {
   "cell_type": "code",
   "execution_count": 1,
   "metadata": {},
   "outputs": [
    {
     "data": {
      "text/html": [
       "<div>\n",
       "<style scoped>\n",
       "    .dataframe tbody tr th:only-of-type {\n",
       "        vertical-align: middle;\n",
       "    }\n",
       "\n",
       "    .dataframe tbody tr th {\n",
       "        vertical-align: top;\n",
       "    }\n",
       "\n",
       "    .dataframe thead th {\n",
       "        text-align: right;\n",
       "    }\n",
       "</style>\n",
       "<table border=\"1\" class=\"dataframe\">\n",
       "  <thead>\n",
       "    <tr style=\"text-align: right;\">\n",
       "      <th></th>\n",
       "      <th>Titre</th>\n",
       "      <th>Date parution</th>\n",
       "      <th>Genre</th>\n",
       "      <th>Durée</th>\n",
       "      <th>Pays</th>\n",
       "      <th>Langue</th>\n",
       "      <th>Réalisateur</th>\n",
       "      <th>Auteur</th>\n",
       "      <th>Producteur</th>\n",
       "      <th>Acteurs</th>\n",
       "      <th>Note</th>\n",
       "      <th>Votes</th>\n",
       "      <th>Note hommes</th>\n",
       "      <th>Votes hommes</th>\n",
       "      <th>Note femmes</th>\n",
       "      <th>Votes femmes</th>\n",
       "      <th>Note USA</th>\n",
       "      <th>Votes USA</th>\n",
       "      <th>Note hors USA</th>\n",
       "      <th>Votes hors USA</th>\n",
       "    </tr>\n",
       "  </thead>\n",
       "  <tbody>\n",
       "    <tr>\n",
       "      <th>0</th>\n",
       "      <td>Miss Jerry</td>\n",
       "      <td>1894-10-09</td>\n",
       "      <td>Romance</td>\n",
       "      <td>45.0</td>\n",
       "      <td>USA</td>\n",
       "      <td>NaN</td>\n",
       "      <td>Alexander Black</td>\n",
       "      <td>Alexander Black</td>\n",
       "      <td>Alexander Black Photoplays</td>\n",
       "      <td>Blanche Bayliss, William Courtenay, Chauncey D...</td>\n",
       "      <td>5.9</td>\n",
       "      <td>154.0</td>\n",
       "      <td>6.2</td>\n",
       "      <td>97.0</td>\n",
       "      <td>6.0</td>\n",
       "      <td>35.0</td>\n",
       "      <td>6.4</td>\n",
       "      <td>51.0</td>\n",
       "      <td>6.0</td>\n",
       "      <td>70.0</td>\n",
       "    </tr>\n",
       "    <tr>\n",
       "      <th>1</th>\n",
       "      <td>The Story of the Kelly Gang</td>\n",
       "      <td>1906-12-26</td>\n",
       "      <td>Biography</td>\n",
       "      <td>70.0</td>\n",
       "      <td>Australia</td>\n",
       "      <td>NaN</td>\n",
       "      <td>Charles Tait</td>\n",
       "      <td>Charles Tait</td>\n",
       "      <td>J. and N. Tait</td>\n",
       "      <td>Elizabeth Tait, John Tait, Norman Campbell, Be...</td>\n",
       "      <td>6.1</td>\n",
       "      <td>589.0</td>\n",
       "      <td>6.1</td>\n",
       "      <td>425.0</td>\n",
       "      <td>6.2</td>\n",
       "      <td>50.0</td>\n",
       "      <td>6.0</td>\n",
       "      <td>96.0</td>\n",
       "      <td>6.2</td>\n",
       "      <td>331.0</td>\n",
       "    </tr>\n",
       "    <tr>\n",
       "      <th>2</th>\n",
       "      <td>Den sorte drøm</td>\n",
       "      <td>1911-08-19</td>\n",
       "      <td>Drama</td>\n",
       "      <td>53.0</td>\n",
       "      <td>Germany</td>\n",
       "      <td>NaN</td>\n",
       "      <td>Urban Gad</td>\n",
       "      <td>Urban Gad</td>\n",
       "      <td>Fotorama</td>\n",
       "      <td>Asta Nielsen, Valdemar Psilander, Gunnar Helse...</td>\n",
       "      <td>5.8</td>\n",
       "      <td>188.0</td>\n",
       "      <td>5.9</td>\n",
       "      <td>146.0</td>\n",
       "      <td>5.7</td>\n",
       "      <td>15.0</td>\n",
       "      <td>6.2</td>\n",
       "      <td>31.0</td>\n",
       "      <td>5.9</td>\n",
       "      <td>123.0</td>\n",
       "    </tr>\n",
       "    <tr>\n",
       "      <th>3</th>\n",
       "      <td>Cleopatra</td>\n",
       "      <td>1912-11-13</td>\n",
       "      <td>Drama</td>\n",
       "      <td>100.0</td>\n",
       "      <td>USA</td>\n",
       "      <td>English</td>\n",
       "      <td>Charles L. Gaskill</td>\n",
       "      <td>Victorien Sardou</td>\n",
       "      <td>Helen Gardner Picture Players</td>\n",
       "      <td>Helen Gardner, Pearl Sindelar, Miss Fielding, ...</td>\n",
       "      <td>5.2</td>\n",
       "      <td>446.0</td>\n",
       "      <td>5.1</td>\n",
       "      <td>299.0</td>\n",
       "      <td>5.9</td>\n",
       "      <td>39.0</td>\n",
       "      <td>5.5</td>\n",
       "      <td>207.0</td>\n",
       "      <td>4.7</td>\n",
       "      <td>105.0</td>\n",
       "    </tr>\n",
       "    <tr>\n",
       "      <th>4</th>\n",
       "      <td>L'Inferno</td>\n",
       "      <td>1911-03-06</td>\n",
       "      <td>Adventure</td>\n",
       "      <td>68.0</td>\n",
       "      <td>Italy</td>\n",
       "      <td>Italian</td>\n",
       "      <td>Francesco Bertolini</td>\n",
       "      <td>Dante Alighieri</td>\n",
       "      <td>Milano Film</td>\n",
       "      <td>Salvatore Papa, Arturo Pirovano, Giuseppe de L...</td>\n",
       "      <td>7.0</td>\n",
       "      <td>2237.0</td>\n",
       "      <td>7.0</td>\n",
       "      <td>1607.0</td>\n",
       "      <td>7.2</td>\n",
       "      <td>215.0</td>\n",
       "      <td>7.0</td>\n",
       "      <td>488.0</td>\n",
       "      <td>7.0</td>\n",
       "      <td>1166.0</td>\n",
       "    </tr>\n",
       "    <tr>\n",
       "      <th>...</th>\n",
       "      <td>...</td>\n",
       "      <td>...</td>\n",
       "      <td>...</td>\n",
       "      <td>...</td>\n",
       "      <td>...</td>\n",
       "      <td>...</td>\n",
       "      <td>...</td>\n",
       "      <td>...</td>\n",
       "      <td>...</td>\n",
       "      <td>...</td>\n",
       "      <td>...</td>\n",
       "      <td>...</td>\n",
       "      <td>...</td>\n",
       "      <td>...</td>\n",
       "      <td>...</td>\n",
       "      <td>...</td>\n",
       "      <td>...</td>\n",
       "      <td>...</td>\n",
       "      <td>...</td>\n",
       "      <td>...</td>\n",
       "    </tr>\n",
       "    <tr>\n",
       "      <th>84424</th>\n",
       "      <td>Manoharam</td>\n",
       "      <td>2019-09-27</td>\n",
       "      <td>Comedy</td>\n",
       "      <td>122.0</td>\n",
       "      <td>India</td>\n",
       "      <td>Malayalam</td>\n",
       "      <td>Anvar Sadik</td>\n",
       "      <td>NaN</td>\n",
       "      <td>chakkalakal Films</td>\n",
       "      <td>Vineeth Sreenivasan, Aparna Das, Basil Joseph,...</td>\n",
       "      <td>6.8</td>\n",
       "      <td>491.0</td>\n",
       "      <td>6.7</td>\n",
       "      <td>289.0</td>\n",
       "      <td>7.3</td>\n",
       "      <td>8.0</td>\n",
       "      <td>7.0</td>\n",
       "      <td>35.0</td>\n",
       "      <td>6.5</td>\n",
       "      <td>168.0</td>\n",
       "    </tr>\n",
       "    <tr>\n",
       "      <th>84425</th>\n",
       "      <td>Le lion</td>\n",
       "      <td>2020-01-29</td>\n",
       "      <td>Comedy</td>\n",
       "      <td>95.0</td>\n",
       "      <td>France</td>\n",
       "      <td>French</td>\n",
       "      <td>Ludovic Colbeau-Justin</td>\n",
       "      <td>Alexandre Coquelle</td>\n",
       "      <td>Monkey Pack Films</td>\n",
       "      <td>Dany Boon, Philippe Katerine, Anne Serra, Samu...</td>\n",
       "      <td>5.3</td>\n",
       "      <td>398.0</td>\n",
       "      <td>5.3</td>\n",
       "      <td>267.0</td>\n",
       "      <td>6.0</td>\n",
       "      <td>26.0</td>\n",
       "      <td>6.3</td>\n",
       "      <td>22.0</td>\n",
       "      <td>5.3</td>\n",
       "      <td>214.0</td>\n",
       "    </tr>\n",
       "    <tr>\n",
       "      <th>84426</th>\n",
       "      <td>De Beentjes van Sint-Hildegard</td>\n",
       "      <td>2020-02-13</td>\n",
       "      <td>Comedy</td>\n",
       "      <td>103.0</td>\n",
       "      <td>Netherlands</td>\n",
       "      <td>German</td>\n",
       "      <td>Johan Nijenhuis</td>\n",
       "      <td>Radek Bajgar</td>\n",
       "      <td>Johan Nijenhuis &amp; Co</td>\n",
       "      <td>Herman Finkers, Johanna ter Steege, Leonie ter...</td>\n",
       "      <td>7.7</td>\n",
       "      <td>724.0</td>\n",
       "      <td>7.8</td>\n",
       "      <td>412.0</td>\n",
       "      <td>7.6</td>\n",
       "      <td>109.0</td>\n",
       "      <td>6.8</td>\n",
       "      <td>13.0</td>\n",
       "      <td>7.7</td>\n",
       "      <td>388.0</td>\n",
       "    </tr>\n",
       "    <tr>\n",
       "      <th>84427</th>\n",
       "      <td>Sokagin Çocuklari</td>\n",
       "      <td>2019-03-15</td>\n",
       "      <td>Drama</td>\n",
       "      <td>98.0</td>\n",
       "      <td>Turkey</td>\n",
       "      <td>Turkish</td>\n",
       "      <td>Ahmet Faik Akinci</td>\n",
       "      <td>Ahmet Faik Akinci</td>\n",
       "      <td>Gizem Ajans</td>\n",
       "      <td>Ahmet Faik Akinci, Belma Mamati, Metin Keçeci,...</td>\n",
       "      <td>6.4</td>\n",
       "      <td>194.0</td>\n",
       "      <td>3.1</td>\n",
       "      <td>10.0</td>\n",
       "      <td>4.0</td>\n",
       "      <td>2.0</td>\n",
       "      <td>1.7</td>\n",
       "      <td>5.0</td>\n",
       "      <td>5.8</td>\n",
       "      <td>5.0</td>\n",
       "    </tr>\n",
       "    <tr>\n",
       "      <th>84428</th>\n",
       "      <td>La vida sense la Sara Amat</td>\n",
       "      <td>2020-02-05</td>\n",
       "      <td>Drama</td>\n",
       "      <td>74.0</td>\n",
       "      <td>Spain</td>\n",
       "      <td>Catalan</td>\n",
       "      <td>Laura Jou</td>\n",
       "      <td>Coral Cruz</td>\n",
       "      <td>La Xarxa de Comunicació Local</td>\n",
       "      <td>Maria Morera Colomer, Biel Rossell Pelfort, Is...</td>\n",
       "      <td>6.7</td>\n",
       "      <td>102.0</td>\n",
       "      <td>6.6</td>\n",
       "      <td>68.0</td>\n",
       "      <td>6.9</td>\n",
       "      <td>15.0</td>\n",
       "      <td>6.7</td>\n",
       "      <td>13.0</td>\n",
       "      <td>6.7</td>\n",
       "      <td>60.0</td>\n",
       "    </tr>\n",
       "  </tbody>\n",
       "</table>\n",
       "<p>84429 rows × 20 columns</p>\n",
       "</div>"
      ],
      "text/plain": [
       "                                Titre Date parution      Genre  Durée  \\\n",
       "0                          Miss Jerry    1894-10-09    Romance   45.0   \n",
       "1         The Story of the Kelly Gang    1906-12-26  Biography   70.0   \n",
       "2                      Den sorte drøm    1911-08-19      Drama   53.0   \n",
       "3                           Cleopatra    1912-11-13      Drama  100.0   \n",
       "4                           L'Inferno    1911-03-06  Adventure   68.0   \n",
       "...                               ...           ...        ...    ...   \n",
       "84424                       Manoharam    2019-09-27     Comedy  122.0   \n",
       "84425                         Le lion    2020-01-29     Comedy   95.0   \n",
       "84426  De Beentjes van Sint-Hildegard    2020-02-13     Comedy  103.0   \n",
       "84427               Sokagin Çocuklari    2019-03-15      Drama   98.0   \n",
       "84428      La vida sense la Sara Amat    2020-02-05      Drama   74.0   \n",
       "\n",
       "              Pays     Langue             Réalisateur              Auteur  \\\n",
       "0              USA        NaN         Alexander Black     Alexander Black   \n",
       "1        Australia        NaN            Charles Tait        Charles Tait   \n",
       "2          Germany        NaN               Urban Gad           Urban Gad   \n",
       "3              USA    English      Charles L. Gaskill    Victorien Sardou   \n",
       "4            Italy    Italian     Francesco Bertolini     Dante Alighieri   \n",
       "...            ...        ...                     ...                 ...   \n",
       "84424        India  Malayalam             Anvar Sadik                 NaN   \n",
       "84425       France     French  Ludovic Colbeau-Justin  Alexandre Coquelle   \n",
       "84426  Netherlands     German         Johan Nijenhuis        Radek Bajgar   \n",
       "84427       Turkey    Turkish       Ahmet Faik Akinci   Ahmet Faik Akinci   \n",
       "84428        Spain    Catalan               Laura Jou          Coral Cruz   \n",
       "\n",
       "                          Producteur  \\\n",
       "0         Alexander Black Photoplays   \n",
       "1                     J. and N. Tait   \n",
       "2                           Fotorama   \n",
       "3      Helen Gardner Picture Players   \n",
       "4                        Milano Film   \n",
       "...                              ...   \n",
       "84424              chakkalakal Films   \n",
       "84425              Monkey Pack Films   \n",
       "84426           Johan Nijenhuis & Co   \n",
       "84427                    Gizem Ajans   \n",
       "84428  La Xarxa de Comunicació Local   \n",
       "\n",
       "                                                 Acteurs  Note   Votes  \\\n",
       "0      Blanche Bayliss, William Courtenay, Chauncey D...   5.9   154.0   \n",
       "1      Elizabeth Tait, John Tait, Norman Campbell, Be...   6.1   589.0   \n",
       "2      Asta Nielsen, Valdemar Psilander, Gunnar Helse...   5.8   188.0   \n",
       "3      Helen Gardner, Pearl Sindelar, Miss Fielding, ...   5.2   446.0   \n",
       "4      Salvatore Papa, Arturo Pirovano, Giuseppe de L...   7.0  2237.0   \n",
       "...                                                  ...   ...     ...   \n",
       "84424  Vineeth Sreenivasan, Aparna Das, Basil Joseph,...   6.8   491.0   \n",
       "84425  Dany Boon, Philippe Katerine, Anne Serra, Samu...   5.3   398.0   \n",
       "84426  Herman Finkers, Johanna ter Steege, Leonie ter...   7.7   724.0   \n",
       "84427  Ahmet Faik Akinci, Belma Mamati, Metin Keçeci,...   6.4   194.0   \n",
       "84428  Maria Morera Colomer, Biel Rossell Pelfort, Is...   6.7   102.0   \n",
       "\n",
       "       Note hommes  Votes hommes  Note femmes  Votes femmes  Note USA  \\\n",
       "0              6.2          97.0          6.0          35.0       6.4   \n",
       "1              6.1         425.0          6.2          50.0       6.0   \n",
       "2              5.9         146.0          5.7          15.0       6.2   \n",
       "3              5.1         299.0          5.9          39.0       5.5   \n",
       "4              7.0        1607.0          7.2         215.0       7.0   \n",
       "...            ...           ...          ...           ...       ...   \n",
       "84424          6.7         289.0          7.3           8.0       7.0   \n",
       "84425          5.3         267.0          6.0          26.0       6.3   \n",
       "84426          7.8         412.0          7.6         109.0       6.8   \n",
       "84427          3.1          10.0          4.0           2.0       1.7   \n",
       "84428          6.6          68.0          6.9          15.0       6.7   \n",
       "\n",
       "       Votes USA  Note hors USA  Votes hors USA  \n",
       "0           51.0            6.0            70.0  \n",
       "1           96.0            6.2           331.0  \n",
       "2           31.0            5.9           123.0  \n",
       "3          207.0            4.7           105.0  \n",
       "4          488.0            7.0          1166.0  \n",
       "...          ...            ...             ...  \n",
       "84424       35.0            6.5           168.0  \n",
       "84425       22.0            5.3           214.0  \n",
       "84426       13.0            7.7           388.0  \n",
       "84427        5.0            5.8             5.0  \n",
       "84428       13.0            6.7            60.0  \n",
       "\n",
       "[84429 rows x 20 columns]"
      ]
     },
     "execution_count": 1,
     "metadata": {},
     "output_type": "execute_result"
    }
   ],
   "source": [
    "import pandas as pd\n",
    "\n",
    "df = pd.read_csv(\"./fichiers/IMDb.csv.csv\")\n",
    "df\n",
    "\n"
   ]
  },
  {
   "cell_type": "markdown",
   "metadata": {},
   "source": [
    "### Question 1 : Quel est le pays d'origine du 405e film affiché dans la liste?\n",
    "Par exemple, le pays d'origine du 1er film affiché dans la liste est USA."
   ]
  },
  {
   "cell_type": "code",
   "execution_count": 7,
   "metadata": {},
   "outputs": [
    {
     "name": "stdout",
     "output_type": "stream",
     "text": [
      "le pays d'origine du 504e film affiché dans la liste est :Germany\n"
     ]
    }
   ],
   "source": [
    "pays_film = df.iloc[404,4]\n",
    "print(f\"le pays d'origine du 504e film affiché dans la liste est :{pays_film}\")"
   ]
  },
  {
   "cell_type": "markdown",
   "metadata": {},
   "source": [
    "### Question 2 : Quelle est la note médiane des films de genre biographique?"
   ]
  },
  {
   "cell_type": "code",
   "execution_count": 9,
   "metadata": {},
   "outputs": [
    {
     "name": "stdout",
     "output_type": "stream",
     "text": [
      "La note médiane des films biographiques est : 6.7\n"
     ]
    }
   ],
   "source": [
    "biographiques = df[df['Genre'] == 'Biography']\n",
    "mediane_film = biographiques['Note'].median()\n",
    "print(f\"La note médiane des films biographiques est : {mediane_film}\")\n"
   ]
  },
  {
   "cell_type": "markdown",
   "metadata": {},
   "source": [
    "### Question 3 : Combien y a-t-il de comédies ayant une durée entre 90 minutes et 120 minutes inclusivement?"
   ]
  },
  {
   "cell_type": "code",
   "execution_count": 11,
   "metadata": {},
   "outputs": [
    {
     "name": "stdout",
     "output_type": "stream",
     "text": [
      "Le nombre de comédies ayant une durée entre 90 et 120 minutes est : 14718\n"
     ]
    }
   ],
   "source": [
    "comedies = df[(df['Genre'] == 'Comedy') & (df['Durée'] >= 90) & (df['Durée'] <= 120)]\n",
    "nombre_comedies = comedies.shape[0]\n",
    "print(f\"Le nombre de comédies ayant une durée entre 90 et 120 minutes est : {nombre_comedies}\")\n"
   ]
  },
  {
   "cell_type": "markdown",
   "metadata": {},
   "source": [
    "### Question 4 : Combien y a-t-il de films pour lesquels l'auteur est manquant?"
   ]
  },
  {
   "cell_type": "code",
   "execution_count": 13,
   "metadata": {},
   "outputs": [
    {
     "name": "stdout",
     "output_type": "stream",
     "text": [
      "Le nombre de films pour lesquels l'auteur est manquant est : 1528\n"
     ]
    }
   ],
   "source": [
    "\n",
    "film_auteurs_manquants = df['Auteur'].isnull().sum()\n",
    "print(f\"Le nombre de films pour lesquels l'auteur est manquant est : {film_auteurs_manquants}\")\n"
   ]
  },
  {
   "cell_type": "markdown",
   "metadata": {},
   "source": [
    "### Question 5 : Quelle est la langue du film le plus long?"
   ]
  },
  {
   "cell_type": "code",
   "execution_count": 15,
   "metadata": {},
   "outputs": [
    {
     "name": "stdout",
     "output_type": "stream",
     "text": [
      "La langue du film le plus long est : Catalan\n"
     ]
    }
   ],
   "source": [
    "film_plus_long = df.loc[df['Durée'].idxmax()]\n",
    "\n",
    "langue_film_plus_long = film_plus_long['Langue']\n",
    "\n",
    "print(f\"La langue du film le plus long est : {langue_film_plus_long}\")"
   ]
  },
  {
   "cell_type": "markdown",
   "metadata": {},
   "source": [
    "### Question 6 : Combien de jours faudrait-il pour réussir à écouter tous les films de cette liste de façon consécutive?"
   ]
  },
  {
   "cell_type": "code",
   "execution_count": 17,
   "metadata": {},
   "outputs": [
    {
     "name": "stdout",
     "output_type": "stream",
     "text": [
      "Il faudrait environ 5833.32 jours pour écouter tous les films de la liste.\n"
     ]
    }
   ],
   "source": [
    "duree_totale = df['Durée'].sum()\n",
    "jours_necessaires = duree_totale / 1440  # 1440 minutes dans une journée\n",
    "jours_necessaires_arrondi = round(jours_necessaires, 2)\n",
    "print(\"Il faudrait environ\",jours_necessaires_arrondi, \"jours pour écouter tous les films de la liste.\")"
   ]
  },
  {
   "cell_type": "markdown",
   "metadata": {},
   "source": [
    "### Question 7 : Dans quel genre trouve-t-on la plus haute proportion de films provenant du Canada?\n",
    "Considérez uniquement les films pour lesquels le genre et le pays ne sont pas des valeurs manquantes."
   ]
  },
  {
   "cell_type": "code",
   "execution_count": 19,
   "metadata": {},
   "outputs": [
    {
     "name": "stdout",
     "output_type": "stream",
     "text": [
      "Le genre avec la plus haute proportion de films canadiens est Thriller avec une proportion de 7.21%\n"
     ]
    }
   ],
   "source": [
    "# Filtrer les données pour exclure les valeurs manquantes dans les colonnes \"Genre\" et \"Pays\"\n",
    "df_filtered = df.dropna(subset=['Genre', 'Pays'])\n",
    "\n",
    "# Filtrer uniquement les films canadiens\n",
    "df_canada = df_filtered[df_filtered['Pays'].str.contains('Canada', case=False)]\n",
    "\n",
    "# Calculer la proportion de films canadiens pour chaque genre\n",
    "genre_proportion = df_canada['Genre'].value_counts() / df_filtered['Genre'].value_counts()\n",
    "\n",
    "# Trier pour trouver le genre avec la plus haute proportion\n",
    "highest_proportion_genre = genre_proportion.idxmax()\n",
    "highest_proportion_value = genre_proportion.max()\n",
    "\n",
    "# Afficher le résultat\n",
    "print(f\"Le genre avec la plus haute proportion de films canadiens est {highest_proportion_genre} avec une proportion de {highest_proportion_value:.2%}\")\n"
   ]
  },
  {
   "cell_type": "markdown",
   "metadata": {},
   "source": [
    "### Question 8 : Quel pays entre la France et le Royaume-Uni (UK) a-t-il le plus petit nombre de films en langue italienne?\n",
    "On s'intéresse au nombre absolu et non à la proportion."
   ]
  },
  {
   "cell_type": "code",
   "execution_count": 21,
   "metadata": {},
   "outputs": [
    {
     "name": "stdout",
     "output_type": "stream",
     "text": [
      "Le Royaume-Uni a le plus petit nombre de films en langue italienne avec 6 films.\n"
     ]
    }
   ],
   "source": [
    "# Filtrer les films en langue italienne \n",
    "df_italian = df[df['Langue'].str.contains('Italian', case=False, na=False)]\n",
    "\n",
    "# Compter le nombre de films en langue italienne pour la France\n",
    "france_italian_count = df_italian[df_italian['Pays'].str.contains('France', case=False, na=False)].shape[0]\n",
    "\n",
    "# Compter le nombre de films en langue italienne pour le Royaume-Uni (UK)\n",
    "uk_italian_count = df_italian[df_italian['Pays'].str.contains('UK|United Kingdom', case=False, na=False)].shape[0]\n",
    "\n",
    "# Comparer les résultats pour déterminer quel pays a le plus petit nombre de films\n",
    "if france_italian_count < uk_italian_count:\n",
    "    result = f\"La France a le plus petit nombre de films en langue italienne avec {france_italian_count} films.\"\n",
    "elif uk_italian_count < france_italian_count:\n",
    "    result = f\"Le Royaume-Uni a le plus petit nombre de films en langue italienne avec {uk_italian_count} films.\"\n",
    "else:\n",
    "    result = f\"Les deux pays ont le même nombre de films en langue italienne : {france_italian_count} films.\"\n",
    "\n",
    "# Afficher le résultat\n",
    "print(result)\n",
    "\n"
   ]
  },
  {
   "cell_type": "markdown",
   "metadata": {},
   "source": [
    "### Question 9 : Quels sont les 3 genres de films avec les durées moyennes les plus longues?"
   ]
  },
  {
   "cell_type": "code",
   "execution_count": 23,
   "metadata": {},
   "outputs": [
    {
     "name": "stdout",
     "output_type": "stream",
     "text": [
      "Les 3 genres de films avec les durées moyennes les plus longues sont :\n",
      "Genre\n",
      "Biography    114.206468\n",
      "History      109.077922\n",
      "Romance      107.892663\n",
      "Name: Durée, dtype: float64\n"
     ]
    }
   ],
   "source": [
    "# Calculer la durée moyenne par genre\n",
    "duree_par_genre = df.groupby('Genre')['Durée'].mean()\n",
    "\n",
    "# Obtenir les 3 genres avec les durées moyennes les plus longues\n",
    "trois_genres_plus_long = duree_par_genre.nlargest(3)\n",
    "\n",
    "# Afficher les résultats\n",
    "print(\"Les 3 genres de films avec les durées moyennes les plus longues sont :\")\n",
    "print(trois_genres_plus_long)"
   ]
  },
  {
   "cell_type": "markdown",
   "metadata": {},
   "source": [
    "### Question 10 : Quelle proportion des films provient de l'un des 5 pays ayant produit le plus grand nombre de films?\n",
    "Cette question signifie que la réponse doit être une seule valeur et non pas cinq valeurs."
   ]
  },
  {
   "cell_type": "code",
   "execution_count": 25,
   "metadata": {},
   "outputs": [
    {
     "name": "stdout",
     "output_type": "stream",
     "text": [
      "La proportion des films provenant des 5 pays ayant produit le plus grand nombre de films est de : 60.67 %\n"
     ]
    }
   ],
   "source": [
    "# Compter le nombre de films par pays\n",
    "compte_pays = df['Pays'].value_counts()\n",
    "\n",
    "# Identifier les 5 pays ayant produit le plus grand nombre de films\n",
    "top_5_pays = compte_pays.head(5).index\n",
    "\n",
    "# Calculer le nombre total de films\n",
    "total_films = df.shape[0]\n",
    "\n",
    "# Calculer le nombre de films provenant des 5 pays\n",
    "films_top_5 = df[df['Pays'].isin(top_5_pays)].shape[0]\n",
    "\n",
    "# Calculer la proportion\n",
    "proportion = (films_top_5 / total_films) * 100\n",
    "\n",
    "# Afficher le résultat\n",
    "print(f\"La proportion des films provenant des 5 pays ayant produit le plus grand nombre de films est de : {proportion:.2f} %\")\n"
   ]
  },
  {
   "cell_type": "markdown",
   "metadata": {},
   "source": [
    "### Question 11 : Quelle est la proportion des films qui sont des films d'aventure?\n",
    "Considérez uniquement les films pour lesquels le genre est connu."
   ]
  },
  {
   "cell_type": "code",
   "execution_count": 27,
   "metadata": {},
   "outputs": [
    {
     "name": "stdout",
     "output_type": "stream",
     "text": [
      "La proportion des films qui sont des films d'aventure est de : 4.21 %\n"
     ]
    }
   ],
   "source": [
    "# Supprimer les films avec un genre manquant\n",
    "films_connu_genre = df.dropna(subset=['Genre'])\n",
    "\n",
    "# Compter le nombre total de films avec un genre connu\n",
    "total_films_connu_genre = films_connu_genre.shape[0]\n",
    "\n",
    "# Compter le nombre de films d'aventure\n",
    "films_aventure = films_connu_genre[films_connu_genre['Genre'].str.contains('Adventure', case=False)]\n",
    "\n",
    "# Compter le nombre de films d'aventure\n",
    "nombre_films_aventure = films_aventure.shape[0]\n",
    "\n",
    "# Calculer la proportion\n",
    "proportion_aventure = (nombre_films_aventure / total_films_connu_genre) * 100\n",
    "\n",
    "# Afficher le résultat avec deux décimales\n",
    "print(f\"La proportion des films qui sont des films d'aventure est de : {proportion_aventure:.2f} %\")\n"
   ]
  },
  {
   "cell_type": "markdown",
   "metadata": {},
   "source": [
    "### Question 12 : En moyenne, combien de votes supplémentaires reçoivent les films qui sont longs en comparaison des les films qui ne le sont pas?\n",
    "Pour cette question, on considère qu'un film est long à partir d'une durée de 125 minutes. Considérez uniquement les films pour lesquels la durée est connue."
   ]
  },
  {
   "cell_type": "code",
   "execution_count": 29,
   "metadata": {},
   "outputs": [
    {
     "name": "stdout",
     "output_type": "stream",
     "text": [
      "Les films longs reçoivent en moyenne 13820.12 votes supplémentaires par rapport aux films non longs.\n"
     ]
    }
   ],
   "source": [
    "\n",
    "# Filtrer les films dont la durée est connue\n",
    "films_connu_duree = df.dropna(subset=['Durée'])\n",
    "\n",
    "# Calculer la durée moyenne des films\n",
    "duree_moyenne = films_connu_duree['Durée'].mean()\n",
    "\n",
    "# Séparer les films longs et non longs\n",
    "films_longs = films_connu_duree[films_connu_duree['Durée'] > duree_moyenne]\n",
    "films_non_longs = films_connu_duree[films_connu_duree['Durée'] <= duree_moyenne]\n",
    "\n",
    "# Calculer le nombre moyen de votes pour chaque groupe\n",
    "moyenne_votes_longs = films_longs['Votes'].mean()\n",
    "moyenne_votes_non_longs = films_non_longs['Votes'].mean()\n",
    "\n",
    "# Calculer la différence des votes en moyenne\n",
    "difference_votes = moyenne_votes_longs - moyenne_votes_non_longs\n",
    "\n",
    "# Afficher le résultat avec deux décimales\n",
    "print(f\"Les films longs reçoivent en moyenne {difference_votes:.2f} votes supplémentaires par rapport aux films non longs.\")\n"
   ]
  },
  {
   "cell_type": "markdown",
   "metadata": {},
   "source": [
    "### Question 13 : Quelle est la durée moyenne des films par décennie?\n",
    "Une décennie commence à l'année 0 et se termine à l'année 9. Par exemple, les années 1980 à 1989 forment une décennie, tandis que les années 1990 à 1999 forment une autre décennie."
   ]
  },
  {
   "cell_type": "code",
   "execution_count": 9,
   "metadata": {},
   "outputs": [
    {
     "data": {
      "text/plain": [
       "Décennie\n",
       "1890.0     45.000000\n",
       "1900.0     70.000000\n",
       "1910.0     80.143617\n",
       "1920.0     87.983051\n",
       "1930.0     82.019897\n",
       "1940.0     89.238286\n",
       "1950.0     92.707688\n",
       "1960.0     99.511500\n",
       "1970.0    100.629914\n",
       "1980.0    101.675242\n",
       "1990.0    103.173453\n",
       "2000.0    102.652466\n",
       "2010.0    102.252108\n",
       "2020.0    101.614849\n",
       "Name: Durée, dtype: float64"
      ]
     },
     "execution_count": 9,
     "metadata": {},
     "output_type": "execute_result"
    }
   ],
   "source": [
    "# Supprimer les films dont la durée ou la date de parution est manquante\n",
    "films_connu_duree_annee = df.dropna(subset=['Durée', 'Date parution']).copy()\n",
    "\n",
    "# Extraire l'année de la colonne 'Date parution'\n",
    "films_connu_duree_annee.loc[:, 'Année'] = pd.to_datetime(films_connu_duree_annee['Date parution'], errors='coerce').dt.year\n",
    "\n",
    "# Supprimer les lignes où l'année est manquante ou incorrecte\n",
    "films_connu_duree_annee = films_connu_duree_annee.dropna(subset=['Année'])\n",
    "\n",
    "# Calculer la décennie (arrondir l'année à la dizaine inférieure)\n",
    "films_connu_duree_annee.loc[:, 'Décennie'] = (films_connu_duree_annee['Année'] // 10) * 10\n",
    "\n",
    "# Calculer la durée moyenne des films par décennie\n",
    "duree_moyenne_par_decennie = films_connu_duree_annee.groupby('Décennie')['Durée'].mean()\n",
    "duree_moyenne_par_decennie \n"
   ]
  },
  {
   "cell_type": "markdown",
   "metadata": {},
   "source": [
    "### Question 14 : Quel est l'acteur ayant participé au plus grand nombre de films américains entre les années 1990 et 1999 inclusivement?"
   ]
  },
  {
   "cell_type": "code",
   "execution_count": 7,
   "metadata": {},
   "outputs": [
    {
     "name": "stdout",
     "output_type": "stream",
     "text": [
      "L'acteur ayant participé au plus grand nombre de films américains entre 1990 et 1999 est  Brion James, avec 28 films.\n"
     ]
    }
   ],
   "source": [
    "# Filtrer les films américains et ceux sortis entre 1990 et 1999\n",
    "films_usa_90s = df[(df['Pays'] == 'USA') & (df['Date parution'].between('1990', '1999'))]\n",
    "\n",
    "# Supprimer les films dont la liste des acteurs est manquante\n",
    "films_usa_90s = films_usa_90s.dropna(subset=['Acteurs'])\n",
    "\n",
    "# Séparer les acteurs (en supposant que la colonne Acteurs contient une liste séparée par des virgules)\n",
    "films_usa_90s['Acteurs'] = films_usa_90s['Acteurs'].str.split(',')\n",
    "\n",
    "# Compter les apparitions de chaque acteur\n",
    "acteur_count = films_usa_90s['Acteurs'].explode().value_counts()\n",
    "\n",
    "# Identifier l'acteur avec le plus grand nombre de films\n",
    "acteur_plus_films = acteur_count.idxmax()\n",
    "nombre_films = acteur_count.max()\n",
    "\n",
    "# Afficher le résultat\n",
    "print(f\"L'acteur ayant participé au plus grand nombre de films américains entre 1990 et 1999 est {acteur_plus_films}, avec {nombre_films} films.\")\n"
   ]
  },
  {
   "cell_type": "markdown",
   "metadata": {},
   "source": [
    "### Question 15 : Le public est-il plus exigeant à l'égard des films ne provenant pas de son marché? Pour répondre à la question, affichez la différence entre la note moyenne des films provenant du même marché que le public et la note moyenne des films ne provenant pas du même marché que le public.\n",
    "\n",
    "Considérez deux marchés différents : le marché américain et le marché international. Un film est associé au marché américain s'il provient des États-Unis. Un film est associé au marché international s'il ne provient pas des États-Unis. Le public d'un film est associé au marché américain si au moins 25% des votes d'origine connue proviennent des États-Unis. Le public d'un film est international dans le cas contraire. Les films proviennent donc du même marché que le public lorsque les deux catégorisations sont à la fois américaines ou internationales.\n",
    "\n",
    "Considérez uniquement les films ayant reçu au moins 500 votes, que leur origine soit connue ou non, pour l'analyse."
   ]
  },
  {
   "cell_type": "code",
   "execution_count": 11,
   "metadata": {},
   "outputs": [
    {
     "name": "stdout",
     "output_type": "stream",
     "text": [
      "Note moyenne des films du même marché (USA): 5.95\n",
      "Note moyenne des films d'un marché différent (International): 6.29\n",
      "Différence entre les notes moyennes: -0.34\n"
     ]
    }
   ],
   "source": [
    "# Filtrer les films avec au moins 500 votes\n",
    "df_filtered = df[df['Votes'] >= 500].copy()  # Créer une copie pour éviter le warning\n",
    "\n",
    "# Déterminer le marché de chaque film\n",
    "def determine_market(row):\n",
    "    total_votes = row['Votes']\n",
    "    votes_usa = row['Votes USA']\n",
    "    percentage_usa = (votes_usa / total_votes) * 100 if total_votes > 0 else 0\n",
    "\n",
    "    if percentage_usa >= 25:\n",
    "        return 'USA'\n",
    "    else:\n",
    "        return 'International'\n",
    "\n",
    "# Appliquer la fonction pour déterminer le marché\n",
    "df_filtered['Market'] = df_filtered.apply(determine_market, axis=1)\n",
    "\n",
    "# Calculer la note moyenne par marché\n",
    "average_ratings = df_filtered.groupby('Market')['Note'].mean().to_dict()\n",
    "\n",
    "# Calculer la note moyenne pour les films du même marché et ceux d'un marché différent\n",
    "same_market_rating = df_filtered[df_filtered['Market'] == 'USA']['Note'].mean()\n",
    "different_market_rating = df_filtered[df_filtered['Market'] == 'International']['Note'].mean()\n",
    "\n",
    "# Afficher les résultats\n",
    "print(f\"Note moyenne des films du même marché (USA): {same_market_rating:.2f}\")\n",
    "print(f\"Note moyenne des films d'un marché différent (International): {different_market_rating:.2f}\")\n",
    "\n",
    "# Calculer et afficher la différence\n",
    "rating_difference = same_market_rating - different_market_rating\n",
    "print(f\"Différence entre les notes moyennes: {rating_difference:.2f}\")\n",
    "\n"
   ]
  },
  {
   "cell_type": "code",
   "execution_count": null,
   "metadata": {},
   "outputs": [],
   "source": []
  }
 ],
 "metadata": {
  "kernelspec": {
   "display_name": "Python 3 (ipykernel)",
   "language": "python",
   "name": "python3"
  },
  "language_info": {
   "codemirror_mode": {
    "name": "ipython",
    "version": 3
   },
   "file_extension": ".py",
   "mimetype": "text/x-python",
   "name": "python",
   "nbconvert_exporter": "python",
   "pygments_lexer": "ipython3",
   "version": "3.12.4"
  }
 },
 "nbformat": 4,
 "nbformat_minor": 4
}
